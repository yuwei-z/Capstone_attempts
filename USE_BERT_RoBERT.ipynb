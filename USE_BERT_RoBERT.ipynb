{
 "cells": [
  {
   "cell_type": "markdown",
   "metadata": {},
   "source": [
    "## USE\n",
    "https://radix.ai/blog/2021/3/a-guide-to-building-document-embeddings-part-2/"
   ]
  },
  {
   "cell_type": "code",
   "execution_count": 1,
   "metadata": {},
   "outputs": [],
   "source": [
    "import numpy as np\n",
    "import tensorflow_hub as hub\n",
    "import tensorflow_text\n",
    "\n",
    "my_document = [\n",
    "    \"This is my document.\",\n",
    "    \"It consists of multiple sentences.\",\n",
    "    \"This is the third and final sentence.\",\n",
    "]\n",
    "\n",
    "use_m = hub.load(\n",
    "    \"https://tfhub.dev/google/universal-sentence-encoder-multilingual-large/3\"\n",
    ")\n",
    "sentence_embs = use_m(my_document).numpy()\n",
    "doc_emb = np.mean(sentence_embs, axis=0)"
   ]
  },
  {
   "cell_type": "code",
   "execution_count": 2,
   "metadata": {},
   "outputs": [
    {
     "data": {
      "text/plain": [
       "(3, 512)"
      ]
     },
     "execution_count": 2,
     "metadata": {},
     "output_type": "execute_result"
    }
   ],
   "source": [
    "sentence_embs.shape"
   ]
  },
  {
   "cell_type": "code",
   "execution_count": 3,
   "metadata": {},
   "outputs": [
    {
     "data": {
      "text/plain": [
       "array([[ 0.01277125,  0.04824684,  0.02633651, ..., -0.00436524,\n",
       "        -0.04923647,  0.01573452],\n",
       "       [ 0.06279358, -0.04311891, -0.06096669, ...,  0.02568746,\n",
       "        -0.0052941 , -0.04394786],\n",
       "       [-0.00691685, -0.00399939, -0.00667829, ..., -0.01735331,\n",
       "         0.05321863,  0.0097335 ]], dtype=float32)"
      ]
     },
     "execution_count": 3,
     "metadata": {},
     "output_type": "execute_result"
    }
   ],
   "source": [
    "sentence_embs"
   ]
  },
  {
   "cell_type": "markdown",
   "metadata": {},
   "source": [
    "## BERT\n",
    "https://huggingface.co/sentence-transformers/all-mpnet-base-v2 "
   ]
  },
  {
   "cell_type": "code",
   "execution_count": 4,
   "metadata": {},
   "outputs": [
    {
     "name": "stderr",
     "output_type": "stream",
     "text": [
      "/Users/yuweizhang/opt/anaconda3/lib/python3.8/site-packages/transformers/tokenization_utils_base.py:2227: UserWarning: `max_length` is ignored when `padding`=`True`.\n",
      "  warnings.warn(\"`max_length` is ignored when `padding`=`True`.\")\n"
     ]
    }
   ],
   "source": [
    "import numpy as np\n",
    "from sentence_transformers import SentenceTransformer\n",
    "\n",
    "my_document = [\n",
    "    \"This is my document.\",\n",
    "    \"It consists of multiple sentences.\",\n",
    "    \"This is the third and final sentence.\",\n",
    "]\n",
    "model = SentenceTransformer('sentence-transformers/all-mpnet-base-v2')\n",
    "sentence_embs = model.encode(my_document)"
   ]
  },
  {
   "cell_type": "code",
   "execution_count": 5,
   "metadata": {},
   "outputs": [
    {
     "data": {
      "text/plain": [
       "(3, 768)"
      ]
     },
     "execution_count": 5,
     "metadata": {},
     "output_type": "execute_result"
    }
   ],
   "source": [
    "sentence_embs.shape"
   ]
  },
  {
   "cell_type": "code",
   "execution_count": 6,
   "metadata": {},
   "outputs": [
    {
     "data": {
      "text/plain": [
       "array([[-0.04731807,  0.014176  ,  0.00761583, ...,  0.00303538,\n",
       "        -0.04867401, -0.03072098],\n",
       "       [ 0.07334287, -0.03173891, -0.00699191, ..., -0.00666402,\n",
       "        -0.02057767, -0.02304883],\n",
       "       [ 0.11271803, -0.00349732,  0.00105874, ...,  0.02205897,\n",
       "        -0.08708036, -0.04711103]], dtype=float32)"
      ]
     },
     "execution_count": 6,
     "metadata": {},
     "output_type": "execute_result"
    }
   ],
   "source": [
    "sentence_embs"
   ]
  },
  {
   "cell_type": "markdown",
   "metadata": {},
   "source": [
    "## RoBERT"
   ]
  },
  {
   "cell_type": "code",
   "execution_count": 7,
   "metadata": {},
   "outputs": [
    {
     "name": "stderr",
     "output_type": "stream",
     "text": [
      "You are using a model of type roberta to instantiate a model of type bert. This is not supported for all configurations of models and can yield errors.\n"
     ]
    }
   ],
   "source": [
    "from transformers import BertConfig, RobertaForMaskedLM, RobertaTokenizer\n",
    "\n",
    "model_path = \"pdelobelle/robbert-v2-dutch-base\"\n",
    "tokenizer = RobertaTokenizer.from_pretrained(model_path)\n",
    "config = BertConfig.from_pretrained(model_path, output_hidden_states=True)\n",
    "\n",
    "robbert = RobertaForMaskedLM.from_pretrained(model_path, config=config)\n",
    "robbert.eval()\n",
    "\n",
    "inputs = tokenizer(my_document, return_tensors=\"pt\", padding=True)\n",
    "\n",
    "# For every sentence, take the embedding of the first element [CLS] of the final layer. Explanation of the indices:\n",
    "# 1 - The model outputs a tuple, the first element contains the output of the model, the second the hidden states.\n",
    "# -1 - The hidden states of the last layer.\n",
    "# : - All elements in the batch (the sentences).\n",
    "# 0 - First element of every sentence (including start and end tokens) -> [CLS] token.\n",
    "sentence_embs = robbert(**inputs)[1][-1][:, 0].detach().numpy()\n",
    "doc_emb = np.mean(sentence_embs, axis=0)"
   ]
  },
  {
   "cell_type": "code",
   "execution_count": 8,
   "metadata": {},
   "outputs": [
    {
     "data": {
      "text/plain": [
       "(3, 768)"
      ]
     },
     "execution_count": 8,
     "metadata": {},
     "output_type": "execute_result"
    }
   ],
   "source": [
    "sentence_embs.shape"
   ]
  },
  {
   "cell_type": "code",
   "execution_count": 9,
   "metadata": {},
   "outputs": [
    {
     "data": {
      "text/plain": [
       "array([[-1.0459678 , -0.17232835, -0.6760791 , ..., -0.99047405,\n",
       "         0.92589414, -1.3538346 ],\n",
       "       [-0.48277706,  0.72309726,  0.12228713, ..., -1.1843195 ,\n",
       "         0.15349264, -1.4755102 ],\n",
       "       [-0.50207144,  0.08903795, -0.19226997, ..., -0.90981984,\n",
       "         1.0100853 , -1.6406622 ]], dtype=float32)"
      ]
     },
     "execution_count": 9,
     "metadata": {},
     "output_type": "execute_result"
    }
   ],
   "source": [
    "sentence_embs"
   ]
  }
 ],
 "metadata": {
  "kernelspec": {
   "display_name": "Python 3",
   "language": "python",
   "name": "python3"
  },
  "language_info": {
   "codemirror_mode": {
    "name": "ipython",
    "version": 3
   },
   "file_extension": ".py",
   "mimetype": "text/x-python",
   "name": "python",
   "nbconvert_exporter": "python",
   "pygments_lexer": "ipython3",
   "version": "3.8.3"
  }
 },
 "nbformat": 4,
 "nbformat_minor": 5
}
