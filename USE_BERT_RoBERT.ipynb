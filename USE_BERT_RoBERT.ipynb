{
 "cells": [
  {
   "cell_type": "markdown",
   "metadata": {},
   "source": [
    "## USE\n",
    "model from tensorFlow hub \n",
    "\n",
    "https://radix.ai/blog/2021/3/a-guide-to-building-document-embeddings-part-2/"
   ]
  },
  {
   "cell_type": "code",
   "execution_count": 1,
   "metadata": {},
   "outputs": [],
   "source": [
    "import numpy as np\n",
    "import tensorflow_hub as hub\n",
    "import tensorflow_text\n",
    "\n",
    "my_document = [\n",
    "    \"This is my document.\",\n",
    "    \"It consists of multiple sentences.\",\n",
    "    \"This is the third and final sentence.\",\n",
    "]\n",
    "\n",
    "use_m = hub.load(\n",
    "    \"https://tfhub.dev/google/universal-sentence-encoder-multilingual-large/3\"\n",
    ")\n",
    "sentence_embs = use_m(my_document).numpy()\n",
    "doc_emb = np.mean(sentence_embs, axis=0)"
   ]
  },
  {
   "cell_type": "code",
   "execution_count": 2,
   "metadata": {},
   "outputs": [
    {
     "data": {
      "text/plain": [
       "(3, 512)"
      ]
     },
     "execution_count": 2,
     "metadata": {},
     "output_type": "execute_result"
    }
   ],
   "source": [
    "sentence_embs.shape"
   ]
  },
  {
   "cell_type": "code",
   "execution_count": 3,
   "metadata": {},
   "outputs": [
    {
     "data": {
      "text/plain": [
       "array([[ 0.01277125,  0.04824684,  0.02633651, ..., -0.00436524,\n",
       "        -0.04923647,  0.01573452],\n",
       "       [ 0.06279358, -0.04311891, -0.06096669, ...,  0.02568746,\n",
       "        -0.0052941 , -0.04394786],\n",
       "       [-0.00691685, -0.00399939, -0.00667829, ..., -0.01735331,\n",
       "         0.05321863,  0.0097335 ]], dtype=float32)"
      ]
     },
     "execution_count": 3,
     "metadata": {},
     "output_type": "execute_result"
    }
   ],
   "source": [
    "sentence_embs"
   ]
  },
  {
   "cell_type": "markdown",
   "metadata": {},
   "source": [
    "## BERT\n",
    "pretrained BERT model performance comparation\n",
    "\n",
    "https://huggingface.co/sentence-transformers/all-mpnet-base-v2\n",
    "- truncate by 512 words\n",
    "- output dimension: 768"
   ]
  },
  {
   "cell_type": "code",
   "execution_count": 4,
   "metadata": {},
   "outputs": [
    {
     "name": "stderr",
     "output_type": "stream",
     "text": [
      "/Users/yuweizhang/opt/anaconda3/lib/python3.8/site-packages/transformers/tokenization_utils_base.py:2227: UserWarning: `max_length` is ignored when `padding`=`True`.\n",
      "  warnings.warn(\"`max_length` is ignored when `padding`=`True`.\")\n"
     ]
    }
   ],
   "source": [
    "import numpy as np\n",
    "from sentence_transformers import SentenceTransformer\n",
    "\n",
    "my_document = [\n",
    "    \"This is my document.\",\n",
    "    \"It consists of multiple sentences.\",\n",
    "    \"This is the third and final sentence.\",\n",
    "]\n",
    "model = SentenceTransformer('sentence-transformers/all-mpnet-base-v2')\n",
    "sentence_embs = model.encode(my_document)"
   ]
  },
  {
   "cell_type": "code",
   "execution_count": 5,
   "metadata": {},
   "outputs": [
    {
     "data": {
      "text/plain": [
       "(3, 768)"
      ]
     },
     "execution_count": 5,
     "metadata": {},
     "output_type": "execute_result"
    }
   ],
   "source": [
    "sentence_embs.shape"
   ]
  },
  {
   "cell_type": "code",
   "execution_count": 6,
   "metadata": {},
   "outputs": [
    {
     "data": {
      "text/plain": [
       "array([[-0.04731807,  0.014176  ,  0.00761583, ...,  0.00303538,\n",
       "        -0.04867401, -0.03072098],\n",
       "       [ 0.07334287, -0.03173891, -0.00699191, ..., -0.00666402,\n",
       "        -0.02057767, -0.02304883],\n",
       "       [ 0.11271803, -0.00349732,  0.00105874, ...,  0.02205897,\n",
       "        -0.08708036, -0.04711103]], dtype=float32)"
      ]
     },
     "execution_count": 6,
     "metadata": {},
     "output_type": "execute_result"
    }
   ],
   "source": [
    "sentence_embs"
   ]
  }
 ],
 "metadata": {
  "kernelspec": {
   "display_name": "Python 3",
   "language": "python",
   "name": "python3"
  },
  "language_info": {
   "codemirror_mode": {
    "name": "ipython",
    "version": 3
   },
   "file_extension": ".py",
   "mimetype": "text/x-python",
   "name": "python",
   "nbconvert_exporter": "python",
   "pygments_lexer": "ipython3",
   "version": "3.8.3"
  }
 },
 "nbformat": 4,
 "nbformat_minor": 5
}
